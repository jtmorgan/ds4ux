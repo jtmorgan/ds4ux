{
 "cells": [
  {
   "cell_type": "markdown",
   "metadata": {},
   "source": [
    "# Jupyter Notebooks"
   ]
  },
  {
   "cell_type": "markdown",
   "metadata": {},
   "source": [
    "Jupyter notebooks are a coding environment for Python (and several other programming languages). Like code editors such as SublimeText (and your Terminal or Powershell), you can run code in a notebook and see the output printed below.\n",
    "\n",
    "Jupyter notebooks have several other benefits:\n",
    "1. You can run individual blocks of code one at a time.\n",
    "2. If you run code that prints any output, that output will be saved until the next time you run that block of code.\n",
    "3. You can publish your notebook publicly so that others can see your code and output in one place, accessed through a stable URL.\n",
    "4. You can easily import someone else's notebook, and customize their code."
   ]
  },
  {
   "cell_type": "markdown",
   "metadata": {},
   "source": [
    "## Running code"
   ]
  },
  {
   "cell_type": "markdown",
   "metadata": {},
   "source": [
    "You can run any Python in Jupyter notebooks that you can in your text editor or terminal.\n",
    "\n",
    "When you press SHIFT+ENTER, the code is executed. If you include print statements, or if your code raises an error, that will be displayed below the code block."
   ]
  },
  {
   "cell_type": "code",
   "execution_count": 7,
   "metadata": {
    "collapsed": false
   },
   "outputs": [
    {
     "name": "stdout",
     "output_type": "stream",
     "text": [
      "John\n",
      "Graham\n",
      "Eric\n",
      "Michael\n",
      "Terry J.\n",
      "Terry G.\n"
     ]
    }
   ],
   "source": [
    "pythonistas = [\"John\",\"Graham\",\"Eric\",\"Michael\",\"Terry J.\", \"Terry G.\"]\n",
    "\n",
    "for p in pythonistas:\n",
    "    print(p)"
   ]
  },
  {
   "cell_type": "markdown",
   "metadata": {},
   "source": [
    "## Formatting text"
   ]
  },
  {
   "cell_type": "markdown",
   "metadata": {},
   "source": [
    "You can insert blocks of text in your notebook, and format them using a plaintext formatting language called Markdown.\n",
    "\n",
    "# Heading one\n",
    "\"# Heading one\"\n",
    "\n",
    "## Heading two\n",
    "\"## Heading two\"\n",
    "\n",
    "### Heading three\n",
    "\"### Heading three\"\n",
    "\n",
    "#### Heading four\n",
    "\"#### Heading four\"\n",
    "\n",
    "Numbered lists:\n",
    "1. item one\n",
    "2. item two\n",
    "3. item three\n",
    "\n",
    " \n",
    "**bold text**\n",
    "\n",
    "\\*\\*bold text\\*\\*\n",
    "\n",
    "*italic text*\n",
    "\n",
    "\\*italic text\\*\n",
    "\n",
    "More here: https://daringfireball.net/projects/markdown/syntax"
   ]
  },
  {
   "cell_type": "markdown",
   "metadata": {},
   "source": [
    "## Forking (copying) a Notebook"
   ]
  },
  {
   "cell_type": "markdown",
   "metadata": {},
   "source": [
    "1. get the url of another public PAWS notebook (example: https://paws.wmflabs.org/paws/user/Jtmorgan/notebooks/DS4UX%20Jupyter%20intro.ipynb)\n",
    "2. pass in a raw param to download a raw .ipynb file https://paws.wmflabs.org/paws/user/Jtmorgan/notebooks/DS4UX%20Jupyter%20intro.ipynb?format=raw\n",
    "3. log into your PAWS account and use \"upload\" to upload this copy into your own directory"
   ]
  },
  {
   "cell_type": "markdown",
   "metadata": {},
   "source": [
    "## Publishing a Notebook"
   ]
  },
  {
   "cell_type": "markdown",
   "metadata": {},
   "source": [
    "(This part is a little bit manual)\n",
    "\n",
    "All notebooks are technically public by default. In order to share the public (non-executable) version of any notebook on paws.wikimedia.org, you need to manually change the URL.\n",
    "1. Go to a Notebook (example: https://paws.wmflabs.org/paws/user/Jtmorgan/notebooks/DS4UX%20Jupyter%20intro.ipynb)\n",
    "2. Change \"paws\" to \"paws-public\" in both places where it appears in the URL ENCODED version of the URL https://paws-public.wmflabs.org/paws-public/User:Jtmorgan/DS4UX%20Jupyter%20intro.ipynb\n",
    "3. Share the new version of the URL with anyone who you want to be able to view the notebook. Every time you \"save\" your original notebook, the public version will reflect those changes."
   ]
  },
  {
   "cell_type": "markdown",
   "metadata": {},
   "source": [
    "### Query an API"
   ]
  },
  {
   "cell_type": "code",
   "execution_count": 6,
   "metadata": {
    "collapsed": false
   },
   "outputs": [
    {
     "name": "stdout",
     "output_type": "stream",
     "text": [
      "Done one query, num revisions is now 500\n",
      "Done one query, num revisions is now 607\n",
      "Panama_Papers had 607 revisions in the first 24 hours\n"
     ]
    }
   ],
   "source": [
    "import requests\n",
    "\n",
    "ENDPOINT = 'https://en.wikipedia.org/w/api.php'\n",
    "\n",
    "parameters = { 'action' : 'query',\n",
    "               'prop' : 'revisions',\n",
    "               'titles' : 'Panama_Papers',\n",
    "               'format' : 'json',\n",
    "               'rvdir' : 'newer',\n",
    "               'rvlimit' : 500,\n",
    "               'rvstart': '2016-04-03T17:59:05Z',\n",
    "               'rvend' : '2016-04-04T17:59:05Z',\n",
    "               'continue' : '' }\n",
    "\n",
    "num_revisions = 0\n",
    "\n",
    "done = False\n",
    "while not done:\n",
    "    wp_call = requests.get(ENDPOINT, params=parameters)\n",
    "    response = wp_call.json()\n",
    "\n",
    "    pages = response['query']['pages']\n",
    "\n",
    "    for page_id in pages:\n",
    "        page = pages[page_id]\n",
    "        revisions = page['revisions']\n",
    "        for revision in revisions:\n",
    "            num_revisions += 1\n",
    "\n",
    "    print('Done one query, num revisions is now ' + str(num_revisions))\n",
    "\n",
    "    if 'continue' in response:\n",
    "        parameters['continue'] = response['continue']['continue']\n",
    "        parameters['rvcontinue'] = response['continue']['rvcontinue']\n",
    "    else:\n",
    "        done = True\n",
    "\n",
    "print(parameters['titles'] + ' had ' + str(num_revisions) + ' revisions in the first 24 hours')"
   ]
  },
  {
   "cell_type": "markdown",
   "metadata": {},
   "source": [
    "## Import files"
   ]
  },
  {
   "cell_type": "markdown",
   "metadata": {},
   "source": [
    "Once you've uploaded a file to your PAWS fileserver, you can import it into your Python code the usual way, since it's in the same directory."
   ]
  },
  {
   "cell_type": "code",
   "execution_count": 3,
   "metadata": {
    "collapsed": false
   },
   "outputs": [
    {
     "name": "stdout",
     "output_type": "stream",
     "text": [
      "Sophia,F,21799\n",
      "\n",
      "Isabella,F,19850\n",
      "\n",
      "Emma,F,18761\n",
      "\n",
      "Olivia,F,17286\n",
      "\n",
      "Ava,F,15471\n",
      "\n",
      "Emily,F,14228\n",
      "\n",
      "Abigail,F,13221\n",
      "\n",
      "Madison,F,12351\n",
      "\n",
      "Mia,F,11503\n",
      "\n",
      "Chloe,F,10966\n",
      "\n",
      "Elizabeth,F,10050\n",
      "\n",
      "Ella,F,9567\n",
      "\n",
      "Addison,F,9286\n",
      "\n",
      "Natalie,F,8620\n",
      "\n",
      "Lily,F,8164\n",
      "\n",
      "Grace,F,7613\n",
      "\n",
      "Samantha,F,7375\n",
      "\n",
      "Avery,F,7331\n",
      "\n",
      "Sofia,F,7314\n",
      "\n",
      "Aubrey,F,7167\n",
      "\n",
      "Brooklyn,F,7151\n",
      "\n",
      "Lillian,F,6900\n",
      "\n",
      "Victoria,F,6874\n",
      "\n",
      "Evelyn,F,6695\n",
      "\n",
      "Hannah,F,6547\n",
      "\n",
      "Alexis,F,6508\n",
      "\n",
      "Charlotte,F,6414\n",
      "\n",
      "Zoey,F,6388\n",
      "\n",
      "Leah,F,6372\n",
      "\n",
      "Amelia,F,6356\n",
      "\n",
      "Zoe,F,6287\n",
      "\n",
      "Hailey,F,6258\n",
      "\n",
      "Gabriella,F,6079\n",
      "\n",
      "Layla,F,6071\n",
      "\n",
      "Nevaeh,F,6068\n",
      "\n",
      "Kaylee,F,6027\n",
      "\n",
      "Alyssa,F,5996\n",
      "\n",
      "Anna,F,5641\n",
      "\n",
      "Sarah,F,5532\n",
      "\n",
      "Allison,F,5447\n",
      "\n",
      "Savannah,F,5433\n",
      "\n",
      "Ashley,F,5392\n",
      "\n",
      "Audrey,F,5206\n",
      "\n",
      "Taylor,F,5184\n",
      "\n",
      "Brianna,F,5171\n",
      "\n",
      "Aaliyah,F,5102\n",
      "\n",
      "Riley,F,5026\n",
      "\n",
      "Camila,F,4965\n",
      "\n",
      "Khloe,F,4942\n",
      "\n",
      "Zakarri,M,5\n",
      "\n",
      "Zakhar,M,5\n",
      "\n",
      "Zakhari,M,5\n",
      "\n",
      "Zakry,M,5\n",
      "\n",
      "Zalynn,M,5\n",
      "\n",
      "Zaman,M,5\n",
      "\n",
      "Zamaree,M,5\n",
      "\n",
      "Zamarius,M,5\n",
      "\n",
      "Zamiel,M,5\n",
      "\n",
      "Zamiere,M,5\n",
      "\n",
      "Zandar,M,5\n",
      "\n",
      "Zandre,M,5\n",
      "\n",
      "Zandyn,M,5\n",
      "\n",
      "Zanthony,M,5\n",
      "\n",
      "Zari,M,5\n",
      "\n",
      "Zarrion,M,5\n",
      "\n",
      "Zaryn,M,5\n",
      "\n",
      "Zathan,M,5\n",
      "\n",
      "Zaviyon,M,5\n",
      "\n",
      "Zaya,M,5\n",
      "\n",
      "Zayen,M,5\n",
      "\n",
      "Zayir,M,5\n",
      "\n",
      "Zayvien,M,5\n",
      "\n",
      "Zecheriah,M,5\n",
      "\n",
      "Zeid,M,5\n",
      "\n",
      "Zeik,M,5\n",
      "\n",
      "Zell,M,5\n",
      "\n",
      "Zeph,M,5\n",
      "\n",
      "Zephram,M,5\n",
      "\n",
      "Zephyrus,M,5\n",
      "\n",
      "Zepplin,M,5\n",
      "\n",
      "Zerik,M,5\n",
      "\n",
      "Zeryk,M,5\n",
      "\n",
      "Zeyd,M,5\n",
      "\n",
      "Zeyden,M,5\n",
      "\n",
      "Zhair,M,5\n",
      "\n",
      "Zhi,M,5\n",
      "\n",
      "Zidaan,M,5\n",
      "\n",
      "Zihan,M,5\n",
      "\n",
      "Zihao,M,5\n",
      "\n",
      "Ziheir,M,5\n",
      "\n",
      "Zimri,M,5\n",
      "\n",
      "Zyerre,M,5\n",
      "\n",
      "Zykell,M,5\n",
      "\n",
      "Zylar,M,5\n",
      "\n",
      "Zylas,M,5\n",
      "\n",
      "Zyran,M,5\n",
      "\n",
      "Zyshawn,M,5\n",
      "\n",
      "Zytavion,M,5\n",
      "\n"
     ]
    }
   ],
   "source": [
    "NAMES_LIST = \"yob2011_short.txt\"\n",
    "\n",
    "boys = {}\n",
    "girls = {}\n",
    "\n",
    "for line in open(NAMES_LIST, 'r').readlines():\n",
    "    print(line)\n",
    "    name, gender, count = line.strip().split(\",\")\n",
    "    count = int(count)\n",
    "\n",
    "    if gender == \"F\":\n",
    "        girls[name.lower()] = count\n",
    "    elif gender == \"M\":\n",
    "        boys[name.lower()] = count"
   ]
  },
  {
   "cell_type": "code",
   "execution_count": 4,
   "metadata": {
    "collapsed": false
   },
   "outputs": [
    {
     "name": "stdout",
     "output_type": "stream",
     "text": [
      "21799\n"
     ]
    }
   ],
   "source": [
    "print(girls['sophia'])"
   ]
  },
  {
   "cell_type": "markdown",
   "metadata": {},
   "source": [
    "# IMPORTANT: data licensing and privacy\n",
    "\n",
    "The site that hosts these notebooks (called \"WMF Labs\") is run by the Wikimedia Foundation and governed by the following Terms of Use: https://wikitech.wikimedia.org/wiki/Wikitech:Labs_Terms_of_use\n",
    "\n",
    "Of these, the most relevant to *us* is are the rules around the data that can be hosted on WMFLabs server. Please do NOT place any of the following types of data in your notebook or your home directory:\n",
    "- Private data: Data that contains private information about people\n",
    "- Proprietary data: Data that is governed under a copyright license that prohibits open sharing or re-use\n",
    "\n",
    "This means you should NOT allowed upload (e.g. from a CSV) or download (e.g. a JSON dump from an API query) the following types of data to your PAWS notebooks or home directory:\n",
    "- data from  many for-profit websites, like Yelp, Twitter, Goodreads, NBA.com, etc.\n",
    "- private data with PII (\"personally identifiable information\")\n",
    "- any data which you think may be private, or for which you don't know the copyright status\n",
    "\n",
    "Failure to comply with these rules may lead to your data or notebooks being deleted and/or your Wikipedia account being blocked.\n",
    "\n",
    "### Remember: everything you put into your notebook is publicly accessible!"
   ]
  },
  {
   "cell_type": "markdown",
   "metadata": {},
   "source": [
    "### Jupyter notebooks on GitHub"
   ]
  },
  {
   "cell_type": "markdown",
   "metadata": {},
   "source": [
    "If you are working with proprietary and/or private data, or you simply don't want to use PAWS, you can also run Jupyter notebooks on GitHub. More information here: https://github.com/blog/1995-github-jupyter-notebooks-3"
   ]
  },
  {
   "cell_type": "markdown",
   "metadata": {},
   "source": [
    "### Some example notebooks"
   ]
  },
  {
   "cell_type": "markdown",
   "metadata": {},
   "source": [
    "- https://github.com/ewulczyn/wmf/blob/master/clickstream/ipython/Wikipedia%20Clickstream%20-%20Getting%20Started.ipynb\n",
    "- https://paws.wmflabs.org/paws/user/Jtmorgan/notebooks/Notifications%20survey%20analysis.ipynb\n",
    "- https://paws.wmflabs.org/paws/user/Jtmorgan/notebooks/Parsing%20permit%20data%20demo.ipynb\n",
    "- https://paws.wmflabs.org/paws/user/Jtmorgan/notebooks/Wiki%20shows.ipynb\n",
    "- http://paws-public.wmflabs.org/paws-public/User:YuviPanda/ipywidgets/examples/notebooks/"
   ]
  },
  {
   "cell_type": "code",
   "execution_count": null,
   "metadata": {
    "collapsed": true
   },
   "outputs": [],
   "source": []
  }
 ],
 "metadata": {
  "kernelspec": {
   "display_name": "Python 3",
   "language": "python",
   "name": "python3"
  },
  "language_info": {
   "codemirror_mode": {
    "name": "ipython",
    "version": 3
   },
   "file_extension": ".py",
   "mimetype": "text/x-python",
   "name": "python",
   "nbconvert_exporter": "python",
   "pygments_lexer": "ipython3",
   "version": "3.4.2"
  },
  "widgets": {
   "state": {},
   "version": "1.1.0"
  }
 },
 "nbformat": 4,
 "nbformat_minor": 0
}
